{
 "cells": [
  {
   "cell_type": "markdown",
   "metadata": {},
   "source": [
    "# Standard Monte Carlo vs Importance Sampling"
   ]
  },
  {
   "cell_type": "code",
   "execution_count": 71,
   "metadata": {},
   "outputs": [],
   "source": [
    "from scipy.stats import norm\n",
    "import matplotlib.pyplot as plt\n",
    "import numpy as np\n",
    "import math"
   ]
  },
  {
   "cell_type": "markdown",
   "metadata": {},
   "source": [
    "In Monte Carlo integration, the goal is to approximate some integral/expected value. Specifically, we try to approximate $E[g(X)]$ where the distribution function of $X$ is known, but computing $E[g(X)]$ analytically is impossible."
   ]
  },
  {
   "cell_type": "markdown",
   "metadata": {},
   "source": [
    "## Example 1"
   ]
  },
  {
   "cell_type": "markdown",
   "metadata": {},
   "source": [
    "$$g(x) = 10 \\exp(-5(x-3)^4)$$"
   ]
  },
  {
   "cell_type": "markdown",
   "metadata": {},
   "source": [
    "If $X \\sim N(0,1)$, then \n",
    "$$E[g(X)] \\approx 0.089399237$$\n",
    "according to Wolfram Alpha."
   ]
  },
  {
   "cell_type": "code",
   "execution_count": 2,
   "metadata": {},
   "outputs": [],
   "source": [
    "true_expected = 0.089399237"
   ]
  },
  {
   "cell_type": "code",
   "execution_count": 82,
   "metadata": {},
   "outputs": [
    {
     "data": {
      "text/plain": [
       "<matplotlib.legend.Legend at 0x115e3b438>"
      ]
     },
     "execution_count": 82,
     "metadata": {},
     "output_type": "execute_result"
    },
    {
     "data": {
      "image/png": "[encoded data removed]",
      "text/plain": [
       "<Figure size 432x288 with 1 Axes>"
      ]
     },
     "metadata": {
      "needs_background": "light"
     },
     "output_type": "display_data"
    }
   ],
   "source": [
    "fig, ax = plt.subplots(1,1)\n",
    "x_points = np.linspace(0, 4, 100)\n",
    "ax.plot(x_points, norm.pdf(x_points), 'b', lw=2, label='norm')\n",
    "ax.plot(x_points, 10*np.exp(-5*(x_points-3)**4), 'g', lw=2, label='g(x)')\n",
    "ax.legend(loc='best', frameon=False)"
   ]
  },
  {
   "cell_type": "markdown",
   "metadata": {},
   "source": [
    "### Standard Monte Carlo"
   ]
  },
  {
   "cell_type": "markdown",
   "metadata": {},
   "source": [
    "Standard MC sampling involves drawing $n$ independent draws from the distribution $X$, computing $g(X)$ for each observation and then averaging these results to approximate $E[g(X)]$, i.e.,\n",
    "$$E[g(X)] \\approx \\overline{g}_{X,n} = \\frac{1}{n} \\sum_{i=1}^n g(X_i)$$"
   ]
  },
  {
   "cell_type": "markdown",
   "metadata": {},
   "source": [
    "If our approximation error is $\\epsilon_n = \\overline{g}_{X, n} - E[g(X)]$, then\n",
    "$$Var[\\epsilon_n] = \\frac{1}{n} Var[g(X)].$$"
   ]
  },
  {
   "cell_type": "code",
   "execution_count": 3,
   "metadata": {},
   "outputs": [],
   "source": [
    "np.random.seed(0)\n",
    "mu, sigma, n = 0, 1, 1000\n",
    "x = np.random.normal(mu, sigma, n)\n",
    "g_x = 10*np.exp(-5*((x-3)**4))"
   ]
  },
  {
   "cell_type": "code",
   "execution_count": 4,
   "metadata": {},
   "outputs": [
    {
     "data": {
      "text/plain": [
       "0.07511998479759532"
      ]
     },
     "execution_count": 4,
     "metadata": {},
     "output_type": "execute_result"
    }
   ],
   "source": [
    "mc_sample_mean = np.mean(g_x)\n",
    "mc_sample_mean"
   ]
  },
  {
   "cell_type": "code",
   "execution_count": 5,
   "metadata": {},
   "outputs": [
    {
     "data": {
      "text/plain": [
       "0.00045308229094660003"
      ]
     },
     "execution_count": 5,
     "metadata": {},
     "output_type": "execute_result"
    }
   ],
   "source": [
    "mc_variance = (1/n)*np.var(g_x)\n",
    "mc_variance"
   ]
  },
  {
   "cell_type": "markdown",
   "metadata": {},
   "source": [
    "### Importance Sampling"
   ]
  },
  {
   "cell_type": "markdown",
   "metadata": {},
   "source": [
    "If our approximation error is $\\epsilon_n = \\overline{g}_{Y, n} - E[g(X)]$, then\n",
    "$$Var[\\epsilon_n] = \\frac{1}{n} Var[\\frac{p_X(Y)}{p_Y(Y)} g(Y)].$$\n",
    "\n",
    "If we choose a random variable $Y$ whose pmf $p_Y(y) \\propto p_X(y) g(y)$, then the variance of our approximation error is zero. Thus, we should choose a different distribution $p_Y(Y)$ that is alters the original distribution $X$ by increasing the probability at points where $g(y)$ are greater."
   ]
  },
  {
   "cell_type": "markdown",
   "metadata": {},
   "source": [
    "Since $g(x)$ peaks at $x=3$, then our altered random variable is \n",
    "$$Y \\sim N(3, 1),$$\n",
    "since this normal distribution has mean at $x=3$."
   ]
  },
  {
   "cell_type": "code",
   "execution_count": 6,
   "metadata": {},
   "outputs": [],
   "source": [
    "mu2, sigma2, n2 = 3, sigma, n\n",
    "y = np.random.normal(mu2, sigma2, n2)\n",
    "g_y = 10*np.exp(-5*((y-3)**4))\n",
    "g_y_weighted = g_y*(norm.pdf(y, mu, sigma)/norm.pdf(y, mu2, sigma2))"
   ]
  },
  {
   "cell_type": "code",
   "execution_count": 7,
   "metadata": {},
   "outputs": [
    {
     "data": {
      "text/plain": [
       "0.08813692118635374"
      ]
     },
     "execution_count": 7,
     "metadata": {},
     "output_type": "execute_result"
    }
   ],
   "source": [
    "is_sample_mean = np.mean(g_y_weighted)\n",
    "is_sample_mean"
   ]
  },
  {
   "cell_type": "code",
   "execution_count": 8,
   "metadata": {},
   "outputs": [
    {
     "data": {
      "text/plain": [
       "1.322083627657519e-05"
      ]
     },
     "execution_count": 8,
     "metadata": {},
     "output_type": "execute_result"
    }
   ],
   "source": [
    "is_variance = (1/n)*np.var(g_y_weighted)\n",
    "is_variance"
   ]
  },
  {
   "cell_type": "code",
   "execution_count": 9,
   "metadata": {},
   "outputs": [
    {
     "name": "stdout",
     "output_type": "stream",
     "text": [
      "Approximation error magnitude of Monte Carlo: 0.014279252202404683\n",
      "Approximation error magnitude of Importance Sampling: 0.0012623158136462614\n"
     ]
    }
   ],
   "source": [
    "print(\"Approximation error magnitude of Monte Carlo: {}\".format(abs(mc_sample_mean - true_expected)))\n",
    "print(\"Approximation error magnitude of Importance Sampling: {}\".format(abs(is_sample_mean - true_expected)))"
   ]
  },
  {
   "cell_type": "code",
   "execution_count": 10,
   "metadata": {},
   "outputs": [
    {
     "name": "stdout",
     "output_type": "stream",
     "text": [
      "Approximation error variance of Monte Carlo: 0.00045308229094660003\n",
      "Approximation error variance of Importance Sampling: 1.322083627657519e-05\n"
     ]
    }
   ],
   "source": [
    "print(\"Approximation error variance of Monte Carlo: {}\".format(mc_variance))\n",
    "print(\"Approximation error variance of Importance Sampling: {}\".format(is_variance))"
   ]
  },
  {
   "cell_type": "markdown",
   "metadata": {},
   "source": [
    "## Example 2"
   ]
  },
  {
   "cell_type": "markdown",
   "metadata": {},
   "source": [
    "\n",
    "$$g(x) = \\exp(-2(x+1)^2)$$"
   ]
  },
  {
   "cell_type": "markdown",
   "metadata": {},
   "source": [
    "If $X \\sim N(0,1)$, then \n",
    "$$E[g(X)] \\approx 0.299776$$\n",
    "according to Wolfram Alpha."
   ]
  },
  {
   "cell_type": "code",
   "execution_count": 60,
   "metadata": {},
   "outputs": [],
   "source": [
    "true_expected = 0.299776"
   ]
  },
  {
   "cell_type": "code",
   "execution_count": 80,
   "metadata": {},
   "outputs": [
    {
     "data": {
      "text/plain": [
       "<matplotlib.legend.Legend at 0x115cf3d68>"
      ]
     },
     "execution_count": 80,
     "metadata": {},
     "output_type": "execute_result"
    },
    {
     "data": {
      "image/png": "[encoded data removed]",
      "text/plain": [
       "<Figure size 432x288 with 1 Axes>"
      ]
     },
     "metadata": {
      "needs_background": "light"
     },
     "output_type": "display_data"
    }
   ],
   "source": [
    "fig, ax = plt.subplots(1,1)\n",
    "x_points = np.linspace(norm.ppf(0.01), norm.ppf(0.99), 100)\n",
    "ax.plot(x_points, norm.pdf(x_points), 'b', lw=2, label='norm')\n",
    "ax.plot(x_points, np.exp(-2*(x_points+1)**2), 'g', lw=2, label='g(x)')\n",
    "ax.legend(loc='best', frameon=False)"
   ]
  },
  {
   "cell_type": "markdown",
   "metadata": {},
   "source": [
    "### Standard Monte Carlo"
   ]
  },
  {
   "cell_type": "code",
   "execution_count": 61,
   "metadata": {},
   "outputs": [],
   "source": [
    "np.random.seed(0)\n",
    "mu, sigma, n = 0, 1, 1000\n",
    "x = np.random.normal(mu, sigma, n)\n",
    "g_x = np.exp(-2*(x+1)**2)"
   ]
  },
  {
   "cell_type": "code",
   "execution_count": 62,
   "metadata": {},
   "outputs": [
    {
     "data": {
      "text/plain": [
       "0.31532890633790805"
      ]
     },
     "execution_count": 62,
     "metadata": {},
     "output_type": "execute_result"
    }
   ],
   "source": [
    "mc_sample_mean = np.mean(g_x)\n",
    "mc_sample_mean"
   ]
  },
  {
   "cell_type": "code",
   "execution_count": 63,
   "metadata": {},
   "outputs": [
    {
     "data": {
      "text/plain": [
       "0.00012587870076526114"
      ]
     },
     "execution_count": 63,
     "metadata": {},
     "output_type": "execute_result"
    }
   ],
   "source": [
    "mc_variance = (1/n)*np.var(g_x)\n",
    "mc_variance"
   ]
  },
  {
   "cell_type": "markdown",
   "metadata": {},
   "source": [
    "### Importance Sampling"
   ]
  },
  {
   "cell_type": "markdown",
   "metadata": {},
   "source": [
    "Since $g(x)$ peaks at $x=-1$, then our altered random variable is \n",
    "$$Y \\sim N(-1, 1),$$\n",
    "since this normal distribution peaks at $x=-1$."
   ]
  },
  {
   "cell_type": "code",
   "execution_count": 64,
   "metadata": {},
   "outputs": [],
   "source": [
    "mu2, sigma2, n2 = -1, sigma, n\n",
    "y = np.random.normal(mu2, sigma2, n2)\n",
    "g_y = np.exp(-2*(y+1)**2)\n",
    "g_y_weighted = g_y*(norm.pdf(y, mu, sigma)/norm.pdf(y, mu2, sigma2))"
   ]
  },
  {
   "cell_type": "code",
   "execution_count": 65,
   "metadata": {},
   "outputs": [
    {
     "data": {
      "text/plain": [
       "0.3098926719415942"
      ]
     },
     "execution_count": 65,
     "metadata": {},
     "output_type": "execute_result"
    }
   ],
   "source": [
    "is_sample_mean = np.mean(g_y_weighted)\n",
    "is_sample_mean"
   ]
  },
  {
   "cell_type": "code",
   "execution_count": 66,
   "metadata": {},
   "outputs": [
    {
     "data": {
      "text/plain": [
       "6.522553032085177e-05"
      ]
     },
     "execution_count": 66,
     "metadata": {},
     "output_type": "execute_result"
    }
   ],
   "source": [
    "is_variance = (1/n)*np.var(g_y_weighted)\n",
    "is_variance"
   ]
  },
  {
   "cell_type": "code",
   "execution_count": 67,
   "metadata": {},
   "outputs": [
    {
     "name": "stdout",
     "output_type": "stream",
     "text": [
      "Approximation error magnitude of Monte Carlo: 0.015552906337908068\n",
      "Approximation error magnitude of Importance Sampling: 0.010116671941594213\n"
     ]
    }
   ],
   "source": [
    "print(\"Approximation error magnitude of Monte Carlo: {}\".format(abs(mc_sample_mean - true_expected)))\n",
    "print(\"Approximation error magnitude of Importance Sampling: {}\".format(abs(is_sample_mean - true_expected)))"
   ]
  },
  {
   "cell_type": "code",
   "execution_count": 68,
   "metadata": {},
   "outputs": [
    {
     "name": "stdout",
     "output_type": "stream",
     "text": [
      "Approximation error variance of Monte Carlo: 0.00012587870076526114\n",
      "Approximation error variance of Importance Sampling: 6.522553032085177e-05\n"
     ]
    }
   ],
   "source": [
    "print(\"Approximation error variance of Monte Carlo: {}\".format(mc_variance))\n",
    "print(\"Approximation error variance of Importance Sampling: {}\".format(is_variance))"
   ]
  },
  {
   "cell_type": "markdown",
   "metadata": {},
   "source": [
    "Note that both approximation error and approximation error variance are much lower for importance sampling when compared to standard Monte Carlo sampling."
   ]
  }
 ],
 "metadata": {
  "kernelspec": {
   "display_name": "Python 3",
   "language": "python",
   "name": "python3"
  },
  "language_info": {
   "codemirror_mode": {
    "name": "ipython",
    "version": 3
   },
   "file_extension": ".py",
   "mimetype": "text/x-python",
   "name": "python",
   "nbconvert_exporter": "python",
   "pygments_lexer": "ipython3",
   "version": "3.7.3"
  }
 },
 "nbformat": 4,
 "nbformat_minor": 4
}
